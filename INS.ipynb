{
 "cells": [
  {
   "cell_type": "code",
   "execution_count": 1,
   "id": "72084948",
   "metadata": {},
   "outputs": [],
   "source": [
    "from __future__ import absolute_import, division, print_function, unicode_literals\n",
    "import tensorflow as  tf\n",
    "tf.compat.v1.logging.set_verbosity(tf.compat.v1.logging.ERROR)\n",
    "\n",
    "import numpy as np"
   ]
  },
  {
   "cell_type": "code",
   "execution_count": 2,
   "id": "0f42b637",
   "metadata": {},
   "outputs": [
    {
     "name": "stdout",
     "output_type": "stream",
     "text": [
      "0.0 градусов = 0.0 радиан\n",
      "30.0 градусов = 0.52 радиан\n",
      "45.0 градусов = 0.79 радиан\n",
      "60.0 градусов = 1.05 радиан\n",
      "90.0 градусов = 1.57 радиан\n",
      "180.0 градусов = 3.14 радиан\n",
      "360.0 градусов = 6.28 радиан\n"
     ]
    }
   ],
   "source": [
    "#Вводим данные для обучения модели\n",
    "degrees = np.array([0, 30, 45, 60, 90, 180, 360], dtype=float)\n",
    "radians = np.array([0, 0.52, 0.79, 1.05, 1.57, 3.14, 6.28], dtype=float)\n",
    "\n",
    "for i,c in enumerate(degrees):\n",
    "  print(\"{} градусов = {} радиан\".format(c, radians[i]))"
   ]
  },
  {
   "cell_type": "markdown",
   "id": "5839351a",
   "metadata": {},
   "source": [
    "Содаем модель\n",
    "Используем модель плотной сети (Dense-сеть),\n",
    "которая будет состоять из единственного слоя с единственым нейроном\n",
    "\n",
    "Создаем слой l0 количество нейронов (units) равно 1,\n",
    "размерность входного параметра (input_shape) - единичное значение\n",
    "разменость входных данных = размерность всей модели"
   ]
  },
  {
   "cell_type": "code",
   "execution_count": 3,
   "id": "bd757955",
   "metadata": {},
   "outputs": [],
   "source": [
    "l0 = tf.keras.layers.Dense(units=1, input_shape=[1])"
   ]
  },
  {
   "cell_type": "code",
   "execution_count": 4,
   "id": "90f12195",
   "metadata": {},
   "outputs": [],
   "source": [
    "# Преобразуем слой в модель\n",
    "model = tf.keras.Sequential([l0])"
   ]
  },
  {
   "cell_type": "markdown",
   "id": "a871625c",
   "metadata": {},
   "source": [
    "Компилируем модель с функцией потерь и оптимизаций\n",
    "Функция потерь - среденквадратичная ошибка\n",
    "Для функции оптимизации параметр, коэффициент скорости обучения, равен 0.1 - это размер шага при корректировке внутренних значений переменных"
   ]
  },
  {
   "cell_type": "code",
   "execution_count": 5,
   "id": "ba652274",
   "metadata": {},
   "outputs": [],
   "source": [
    "model.compile(loss='mean_squared_error',\n",
    "              optimizer=tf.keras.optimizers.Adam(0.1))"
   ]
  },
  {
   "cell_type": "markdown",
   "id": "564a13c8",
   "metadata": {},
   "source": [
    "Тренируем модель\n",
    "используем метод fit, первый аргумент - входные значения, второй арумент - желаемые выходные значения\n",
    "epochs - количество итераций цыкла обучения\n",
    "verbose - контроль уровня логирования"
   ]
  },
  {
   "cell_type": "code",
   "execution_count": 6,
   "id": "a4b9883a",
   "metadata": {
    "scrolled": false
   },
   "outputs": [
    {
     "name": "stdout",
     "output_type": "stream",
     "text": [
      "Завершили тренировку модели\n"
     ]
    },
    {
     "data": {
      "text/plain": [
       "<function matplotlib.pyplot.show(close=None, block=None)>"
      ]
     },
     "execution_count": 6,
     "metadata": {},
     "output_type": "execute_result"
    },
    {
     "data": {
      "image/png": "[encoded data removed]",
      "text/plain": [
       "<Figure size 432x288 with 1 Axes>"
      ]
     },
     "metadata": {
      "needs_background": "light"
     },
     "output_type": "display_data"
    }
   ],
   "source": [
    "history = model.fit(degrees, radians, epochs=1000, verbose=False)\n",
    "print(\"Завершили тренировку модели\")\n",
    "\n",
    "# Выводим график обучения\n",
    "import matplotlib.pyplot as plt\n",
    "plt.xlabel('Epoch')\n",
    "plt.ylabel('Loss')\n",
    "plt.plot(history.history['loss'])\n",
    "plt.show"
   ]
  },
  {
   "cell_type": "markdown",
   "id": "849a5833",
   "metadata": {},
   "source": [
    "Тесты:"
   ]
  },
  {
   "cell_type": "code",
   "execution_count": 7,
   "id": "684e4a9c",
   "metadata": {
    "scrolled": true
   },
   "outputs": [
    {
     "name": "stdout",
     "output_type": "stream",
     "text": [
      "[[0.40050036]]\n",
      "[[0.8193004]]\n",
      "[[0.19110031]]\n",
      "[[2.8609507]]\n",
      "[[2.6515508]]\n",
      "[[1.4475005]]\n",
      "[[0.92400044]]\n"
     ]
    }
   ],
   "source": [
    "degrees_test = np.array([23, 47, 11, 164, 152, 83, 53], dtype=float)\n",
    "\n",
    "for i in degrees_test:\n",
    "    print(model.predict([i]))"
   ]
  },
  {
   "cell_type": "code",
   "execution_count": 8,
   "id": "3a40ee17",
   "metadata": {},
   "outputs": [
    {
     "name": "stdout",
     "output_type": "stream",
     "text": [
      "[[0.00050035]]\n",
      "[[-0.00069958]]\n",
      "[[0.00110032]]\n",
      "[[0.00095081]]\n",
      "[[0.00155067]]\n",
      "[[-0.00249958]]\n",
      "[[-0.00599957]]\n"
     ]
    }
   ],
   "source": [
    "#degrees_test = np.array([23, 47, 11, 164, 152, 83, 53], dtype=float) \n",
    "radians_test = np.array([0.4, 0.82, 0.19, 2.86, 2.65, 1.45, 0.93], dtype=float) \n",
    "\n",
    "for i in range(7): \n",
    "    print(model.predict([degrees_test[i]]) - radians_test[i])"
   ]
  }
 ],
 "metadata": {
  "kernelspec": {
   "display_name": "Python 3",
   "language": "python",
   "name": "python3"
  },
  "language_info": {
   "codemirror_mode": {
    "name": "ipython",
    "version": 3
   },
   "file_extension": ".py",
   "mimetype": "text/x-python",
   "name": "python",
   "nbconvert_exporter": "python",
   "pygments_lexer": "ipython3",
   "version": "3.9.5"
  }
 },
 "nbformat": 4,
 "nbformat_minor": 5
}
